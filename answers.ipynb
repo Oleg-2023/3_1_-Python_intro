{
 "cells": [
  {
   "cell_type": "markdown",
   "id": "0b21e87d",
   "metadata": {},
   "source": [
    "# 3.1 Введение в Python\n",
    "\n",
    "#### a.  Написать программу, которая удаляет из списка все элементы стоящие на четных позициях"
   ]
  },
  {
   "cell_type": "code",
   "execution_count": 62,
   "id": "2a17cce6",
   "metadata": {},
   "outputs": [
    {
     "name": "stdout",
     "output_type": "stream",
     "text": [
      "[1, 3, 5, 7]\n",
      "[1]\n"
     ]
    }
   ],
   "source": [
    "def del_evens(lst):\n",
    "    for e in range((len(lst)-1) // 2, -1, -1):\n",
    "        lst.pop(e * 2)\n",
    "    return(lst)\n",
    "    \n",
    "# Примеры\n",
    "lst = [0, 1, 2, 3, 4, 5, 6, 7, 8]\n",
    "print(del_evens(lst))\n",
    "\n",
    "lst = [0, 1]\n",
    "print(del_evens(lst))\n",
    "        "
   ]
  },
  {
   "cell_type": "markdown",
   "id": "b2a0fe39",
   "metadata": {},
   "source": [
    "#### b.  Написать программу, которая считывает список слов и находит слова, содержащие более трех гласных букв"
   ]
  },
  {
   "cell_type": "code",
   "execution_count": 4,
   "id": "4fd0fa5a",
   "metadata": {},
   "outputs": [
    {
     "name": "stdout",
     "output_type": "stream",
     "text": [
      "Введите список слов через пробел, затем нажмите <Enter>: свекла gasoline селедка телевизор piligrim жаба крендель рыба fish\n",
      "\n",
      "['gasoline', 'телевизор']\n",
      "\n",
      "['gasoline']\n",
      "\n",
      "['телевизор']\n"
     ]
    }
   ],
   "source": [
    "vowels_en = set(\"aeiou\")\n",
    "vowels_ru = set(\"аеёиоуыэюя\")\n",
    "\n",
    "# считает гласные в s, \n",
    "# параметр lang определяет какой язык учитывать \n",
    "# 1- English, 2 - русский, по умолчанию 0- любой\n",
    "def count_vowels(s, lang = 0):\n",
    "    cnt = 0\n",
    "    for letter in s:\n",
    "        if (lang == 0 or lang == 1) and letter in vowels_en:\n",
    "            cnt += 1\n",
    "        elif (lang == 0 or lang == 2) and letter in vowels_ru:\n",
    "            cnt += 1   \n",
    "    return cnt\n",
    "\n",
    "# считает гласные в каждом слове списка lst,\n",
    "# если гласных меньше равно n то слово удаляется из списка\n",
    "# параметр lang определяет какой язык учитывать \n",
    "# 1- English, 2 - русский, по умолчанию 0- любой\n",
    "def del_low_vowels(lst, n, lang = 0):\n",
    "    new_lst = []\n",
    "    for s in lst:\n",
    "        if count_vowels(s, lang) > n:\n",
    "            new_lst.append(s)       \n",
    "    return new_lst\n",
    "\n",
    "#свекла gasoline селедка телевизор piligrim жаба крендель рыба fish\n",
    "s = input('Введите список слов через пробел, затем нажмите <Enter>: ')\n",
    "lst = s.split(' ')\n",
    "\n",
    "# Пример\n",
    "print()\n",
    "print(del_low_vowels(lst, 3))\n",
    "print()\n",
    "print(del_low_vowels(lst, 3, 1)) # только английские\n",
    "print()\n",
    "print(del_low_vowels(lst, 3, 2)) # только русские гласные     "
   ]
  },
  {
   "cell_type": "markdown",
   "id": "733f59af",
   "metadata": {},
   "source": [
    "#### c.  Написать программу, которая находит второй по величине элемент в списке."
   ]
  },
  {
   "cell_type": "code",
   "execution_count": 11,
   "id": "a22daa82",
   "metadata": {},
   "outputs": [
    {
     "name": "stdout",
     "output_type": "stream",
     "text": [
      "s\n",
      "None\n",
      "34.2\n"
     ]
    }
   ],
   "source": [
    "# Если список имеет 2 или более елемента, возвращает 2 по величине\n",
    "# Иначе или когда элементы не сравнимы возвращает None\n",
    "def get_second_value(lst):\n",
    "    if len(lst) > 1:\n",
    "        try:\n",
    "            lst.sort(reverse=True)\n",
    "            res = lst[1]\n",
    "        except:\n",
    "            res = None\n",
    "    else:\n",
    "        res = None\n",
    "    return res    \n",
    "\n",
    "# пример\n",
    "lst = ['a', 'u', 's']\n",
    "print(get_second_value(lst))\n",
    "\n",
    "lst = ['a', 9, 's']\n",
    "print(get_second_value(lst))\n",
    "\n",
    "lst = [18, 9, 34.2, 179.78]\n",
    "print(get_second_value(lst))"
   ]
  },
  {
   "cell_type": "markdown",
   "id": "46202d98",
   "metadata": {},
   "source": [
    "#### d.  Написать программу, которая удаляет из списка все дубликаты."
   ]
  },
  {
   "cell_type": "code",
   "execution_count": 13,
   "id": "c1d1ad84",
   "metadata": {},
   "outputs": [
    {
     "name": "stdout",
     "output_type": "stream",
     "text": [
      "[0, 1, 2, 3, 4, 7]\n"
     ]
    }
   ],
   "source": [
    "def del_doubles(lst):\n",
    "    # конвертируем во множество - оно не содержит дубликатов\n",
    "    # и обратно\n",
    "    return(list(set(lst)))\n",
    "\n",
    "    \n",
    "# Пример\n",
    "lst = [0, 1, 2, 3, 4, 2, 0, 7, 7]\n",
    "print(del_doubles(lst))"
   ]
  },
  {
   "attachments": {},
   "cell_type": "markdown",
   "id": "763e3820",
   "metadata": {},
   "source": [
    "#### e.  Написать программу, которая считывает данные из CSV-файла и создает словарь, где ключами являются значения в столбце «Name», а значениями — соответствующие им словари с информацией о поле, возрасте и зарплате.\n",
    "\n",
    "Для теста file = 'peoples.csv'"
   ]
  },
  {
   "cell_type": "markdown",
   "id": "710471d4",
   "metadata": {},
   "source": [
    "Name|Sex|Age|Salary\n",
    "----|---|---|------\n",
    "Bob|male|40|30000  \n",
    "Sally|female|23|24000  \n",
    "Polly|female|38|28000\n",
    "Mark|male|26|45000\n",
    "Simon|male|19|18000\n",
    "Joe|male|51|45000\n",
    "Paul|male|29|21000"
   ]
  },
  {
   "cell_type": "code",
   "execution_count": 26,
   "id": "37d87b8f",
   "metadata": {},
   "outputs": [
    {
     "name": "stdout",
     "output_type": "stream",
     "text": [
      "{'Bob': {'Sex': 'male', 'Age': '40', 'Salary': '30000'}, 'Sally': {'Sex': 'female', 'Age': '23', 'Salary': '24000'}, 'Polly': {'Sex': 'female', 'Age': '38', 'Salary': '28000'}, 'Mark': {'Sex': 'male', 'Age': '26', 'Salary': '45000'}, 'Simon': {'Sex': 'male', 'Age': '19', 'Salary': '18000'}, 'Joe': {'Sex': 'male', 'Age': '51', 'Salary': '45000'}, 'Paul': {'Sex': 'male', 'Age': '29', 'Salary': '21000'}}\n"
     ]
    }
   ],
   "source": [
    "import csv\n",
    "\n",
    "file = 'peoples.csv'\n",
    "with open(file) as f:\n",
    "    reader = csv.reader(f)\n",
    "    is_header = True\n",
    "    dict_peoples = {} \n",
    "    sub_dict = {}\n",
    "    for row in reader:\n",
    "        if is_header:\n",
    "            keys_list = row[1:]\n",
    "            is_header = False\n",
    "        else:    \n",
    "            val_list = row[1:]\n",
    "            sub_dict = {keys_list[i]: val_list[i] for i in range(0, len(keys_list), 1)}\n",
    "            dict_peoples[row[0]] = sub_dict\n",
    "# проверка           \n",
    "print(dict_peoples)\n",
    "\n",
    "#{'Bob': {'Sex': 'male', 'Age': '40', 'Salary': '30000'}, \n",
    "# 'Sally': {'Sex': 'female', 'Age': '23', 'Salary': '24000'}, \n",
    "# 'Polly': {'Sex': 'female', 'Age': '38', 'Salary': '28000'}, \n",
    "# 'Mark': {'Sex': 'male', 'Age': '26', 'Salary': '45000'}, \n",
    "# 'Simon': {'Sex': 'male', 'Age': '19', 'Salary': '18000'}, \n",
    "# 'Joe': {'Sex': 'male', 'Age': '51', 'Salary': '45000'}, \n",
    "# 'Paul': {'Sex': 'male', 'Age': '29', 'Salary': '21000'}}"
   ]
  },
  {
   "cell_type": "markdown",
   "id": "6df70203",
   "metadata": {},
   "source": [
    "#### f. Написать программу, которая запрашивает у пользователя строку и выводит на экран все ее подстроки длиной не менее трех символов"
   ]
  },
  {
   "cell_type": "code",
   "execution_count": 50,
   "id": "e3d0ce23",
   "metadata": {},
   "outputs": [
    {
     "name": "stdout",
     "output_type": "stream",
     "text": [
      "Извлекаем все строки длиной от 3-х символов, не убираем дубликаты:\n",
      "['abr', 'abra', 'abrac', 'abraca', 'abracad', 'abracada', 'abracadab', 'abracadabr', 'abracadabra', 'bra', 'brac', 'braca', 'bracad', 'bracada', 'bracadab', 'bracadabr', 'bracadabra', 'rac', 'raca', 'racad', 'racada', 'racadab', 'racadabr', 'racadabra', 'aca', 'acad', 'acada', 'acadab', 'acadabr', 'acadabra', 'cad', 'cada', 'cadab', 'cadabr', 'cadabra', 'ada', 'adab', 'adabr', 'adabra', 'dab', 'dabr', 'dabra', 'abr', 'abra', 'bra']\n",
      "Извлекаем все строки длиной от 3-х символов, убираем дубликаты:\n",
      "['adabr', 'abracadabra', 'cadab', 'abracadab', 'racadab', 'bracada', 'cada', 'acadabr', 'rac', 'dabra', 'dabr', 'bracad', 'cadabra', 'dab', 'cad', 'brac', 'racadabr', 'bra', 'abraca', 'bracadabra', 'abrac', 'bracadab', 'aca', 'adab', 'acada', 'abracada', 'racad', 'racada', 'acadabra', 'racadabra', 'adabra', 'raca', 'ada', 'cadabr', 'abra', 'acadab', 'abr', 'acad', 'abracadabr', 'braca', 'bracadabr', 'abracad']\n"
     ]
    }
   ],
   "source": [
    "# извлекает все подстроки длиной от min_length\n",
    "# clear_doubles=True - убирает дубликаты\n",
    "def get_substr_list(s, min_length=1, clear_doubles = True):\n",
    "    l = len(s)\n",
    "    res = [s[i: j] for i in range(l)\n",
    "          for j in range(i + min_length, l + 1)]\n",
    "    if clear_doubles:\n",
    "        # del_doubles  - определена в задании d\n",
    "        res = del_doubles(res) #list(set(res))\n",
    "    return res\n",
    "    \n",
    "#s = input('Введите строку затем нажмите <Enter>: ')\n",
    "# Примеры\n",
    "s = 'abracadabra'\n",
    "print('Извлекаем все строки длиной от 3-х символов, не убираем дубликаты:')\n",
    "print(get_substr_list(s, 3, False))\n",
    "#\n",
    "print('Извлекаем все строки длиной от 3-х символов, убираем дубликаты:')\n",
    "print(get_substr_list(s, 3))"
   ]
  },
  {
   "cell_type": "code",
   "execution_count": null,
   "id": "37277573",
   "metadata": {},
   "outputs": [],
   "source": []
  },
  {
   "cell_type": "code",
   "execution_count": null,
   "id": "7d7ab42a",
   "metadata": {},
   "outputs": [],
   "source": []
  }
 ],
 "metadata": {
  "kernelspec": {
   "display_name": "Python 3 (ipykernel)",
   "language": "python",
   "name": "python3"
  },
  "language_info": {
   "codemirror_mode": {
    "name": "ipython",
    "version": 3
   },
   "file_extension": ".py",
   "mimetype": "text/x-python",
   "name": "python",
   "nbconvert_exporter": "python",
   "pygments_lexer": "ipython3",
   "version": "3.11.5"
  }
 },
 "nbformat": 4,
 "nbformat_minor": 5
}
